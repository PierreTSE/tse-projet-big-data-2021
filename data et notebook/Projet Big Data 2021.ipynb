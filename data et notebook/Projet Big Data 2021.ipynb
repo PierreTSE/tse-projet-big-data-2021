{
 "cells": [
  {
   "cell_type": "code",
   "execution_count": 1,
   "metadata": {
    "run_control": {
     "marked": false
    },
    "scrolled": true
   },
   "outputs": [],
   "source": [
    "# pour que le pretty-printer de jupyter se fasse toujours lorsqu'on écrit la variable seule\n",
    "from IPython.core.interactiveshell import InteractiveShell\n",
    "InteractiveShell.ast_node_interactivity = \"all\"\n",
    "\n",
    "# imports utiles\n",
    "import numpy as np\n",
    "import pandas as pd\n",
    "import matplotlib.pyplot as plt\n",
    "import nltk\n",
    "\n",
    "from math import sqrt\n",
    "from time import time\n",
    "import os\n",
    "import joblib\n",
    "import itertools\n",
    "\n",
    "# commande à enlever si ipymbl n'est pas installé\n",
    "%matplotlib widget"
   ]
  },
  {
   "cell_type": "markdown",
   "metadata": {},
   "source": [
    "# Préparation"
   ]
  },
  {
   "cell_type": "markdown",
   "metadata": {},
   "source": [
    "## Lecture des données"
   ]
  },
  {
   "cell_type": "code",
   "execution_count": 2,
   "metadata": {
    "run_control": {
     "marked": false
    },
    "scrolled": true
   },
   "outputs": [
    {
     "data": {
      "text/html": [
       "<div>\n",
       "<style scoped>\n",
       "    .dataframe tbody tr th:only-of-type {\n",
       "        vertical-align: middle;\n",
       "    }\n",
       "\n",
       "    .dataframe tbody tr th {\n",
       "        vertical-align: top;\n",
       "    }\n",
       "\n",
       "    .dataframe thead th {\n",
       "        text-align: right;\n",
       "    }\n",
       "</style>\n",
       "<table border=\"1\" class=\"dataframe\">\n",
       "  <thead>\n",
       "    <tr style=\"text-align: right;\">\n",
       "      <th></th>\n",
       "      <th>description</th>\n",
       "      <th>gender</th>\n",
       "      <th>label</th>\n",
       "      <th>job</th>\n",
       "    </tr>\n",
       "    <tr>\n",
       "      <th>Id</th>\n",
       "      <th></th>\n",
       "      <th></th>\n",
       "      <th></th>\n",
       "      <th></th>\n",
       "    </tr>\n",
       "  </thead>\n",
       "  <tbody>\n",
       "    <tr>\n",
       "      <th>0</th>\n",
       "      <td>She is also a Ronald D. Asmus Policy Entrepre...</td>\n",
       "      <td>F</td>\n",
       "      <td>19</td>\n",
       "      <td>professor</td>\n",
       "    </tr>\n",
       "    <tr>\n",
       "      <th>1</th>\n",
       "      <td>He is a member of the AICPA and WICPA. Brent ...</td>\n",
       "      <td>M</td>\n",
       "      <td>9</td>\n",
       "      <td>accountant</td>\n",
       "    </tr>\n",
       "    <tr>\n",
       "      <th>2</th>\n",
       "      <td>Dr. Aster has held teaching and research posi...</td>\n",
       "      <td>M</td>\n",
       "      <td>19</td>\n",
       "      <td>professor</td>\n",
       "    </tr>\n",
       "    <tr>\n",
       "      <th>3</th>\n",
       "      <td>He runs a boutique design studio attending cl...</td>\n",
       "      <td>M</td>\n",
       "      <td>24</td>\n",
       "      <td>architect</td>\n",
       "    </tr>\n",
       "    <tr>\n",
       "      <th>4</th>\n",
       "      <td>He focuses on cloud security, identity and ac...</td>\n",
       "      <td>M</td>\n",
       "      <td>24</td>\n",
       "      <td>architect</td>\n",
       "    </tr>\n",
       "    <tr>\n",
       "      <th>...</th>\n",
       "      <td>...</td>\n",
       "      <td>...</td>\n",
       "      <td>...</td>\n",
       "      <td>...</td>\n",
       "    </tr>\n",
       "    <tr>\n",
       "      <th>217192</th>\n",
       "      <td>A member of the UWA Cultural Collections Boar...</td>\n",
       "      <td>M</td>\n",
       "      <td>19</td>\n",
       "      <td>professor</td>\n",
       "    </tr>\n",
       "    <tr>\n",
       "      <th>217193</th>\n",
       "      <td>Kelly has worked globally leading teams of co...</td>\n",
       "      <td>F</td>\n",
       "      <td>22</td>\n",
       "      <td>psychologist</td>\n",
       "    </tr>\n",
       "    <tr>\n",
       "      <th>217194</th>\n",
       "      <td>He's the lead author of a recent study that f...</td>\n",
       "      <td>M</td>\n",
       "      <td>19</td>\n",
       "      <td>professor</td>\n",
       "    </tr>\n",
       "    <tr>\n",
       "      <th>217195</th>\n",
       "      <td>She specializes in the theoretical and pedago...</td>\n",
       "      <td>F</td>\n",
       "      <td>19</td>\n",
       "      <td>professor</td>\n",
       "    </tr>\n",
       "    <tr>\n",
       "      <th>217196</th>\n",
       "      <td>Since she was 10 years old she has become a m...</td>\n",
       "      <td>F</td>\n",
       "      <td>1</td>\n",
       "      <td>model</td>\n",
       "    </tr>\n",
       "  </tbody>\n",
       "</table>\n",
       "<p>217197 rows × 4 columns</p>\n",
       "</div>"
      ],
      "text/plain": [
       "                                              description gender  label  \\\n",
       "Id                                                                        \n",
       "0        She is also a Ronald D. Asmus Policy Entrepre...      F     19   \n",
       "1        He is a member of the AICPA and WICPA. Brent ...      M      9   \n",
       "2        Dr. Aster has held teaching and research posi...      M     19   \n",
       "3        He runs a boutique design studio attending cl...      M     24   \n",
       "4        He focuses on cloud security, identity and ac...      M     24   \n",
       "...                                                   ...    ...    ...   \n",
       "217192   A member of the UWA Cultural Collections Boar...      M     19   \n",
       "217193   Kelly has worked globally leading teams of co...      F     22   \n",
       "217194   He's the lead author of a recent study that f...      M     19   \n",
       "217195   She specializes in the theoretical and pedago...      F     19   \n",
       "217196   Since she was 10 years old she has become a m...      F      1   \n",
       "\n",
       "                 job  \n",
       "Id                    \n",
       "0          professor  \n",
       "1         accountant  \n",
       "2          professor  \n",
       "3          architect  \n",
       "4          architect  \n",
       "...              ...  \n",
       "217192     professor  \n",
       "217193  psychologist  \n",
       "217194     professor  \n",
       "217195     professor  \n",
       "217196         model  \n",
       "\n",
       "[217197 rows x 4 columns]"
      ]
     },
     "execution_count": 2,
     "metadata": {},
     "output_type": "execute_result"
    }
   ],
   "source": [
    "df = pd.read_json(\"data.json\").set_index('Id')\n",
    "labels = pd.read_csv(\"label.csv\", index_col='Id')\n",
    "category_names = pd.read_csv(\"categories_string.csv\")['0'].to_dict()\n",
    "\n",
    "df['label'] = labels['Category']\n",
    "df['job'] = labels['Category'].map(category_names)\n",
    "\n",
    "df"
   ]
  },
  {
   "cell_type": "markdown",
   "metadata": {},
   "source": [
    "## Définition de fonctions"
   ]
  },
  {
   "cell_type": "markdown",
   "metadata": {},
   "source": [
    "### Fairness"
   ]
  },
  {
   "cell_type": "code",
   "execution_count": 3,
   "metadata": {
    "run_control": {
     "marked": false
    }
   },
   "outputs": [],
   "source": [
    "def disparate_impact_df(df):\n",
    "    counts = df.groupby(['label', 'gender']).size().unstack('gender')\n",
    "    di = counts[['M', 'F']].max(axis='columns') / counts[['M', 'F']].min(axis='columns')\n",
    "    di.index = di.index.map(category_names)\n",
    "    return di.sort_values(ascending=False)\n",
    "\n",
    "def disparate_impact(labels, genders):\n",
    "    return disparate_impact_df(pd.DataFrame({'label': labels, 'gender': genders}))\n",
    "\n",
    "def macro_disparate_impact(labels, genders):\n",
    "    print(\"   macro fairness\" + 25*\" \", round(disparate_impact(labels, genders).mean(), 3))"
   ]
  },
  {
   "cell_type": "code",
   "execution_count": 4,
   "metadata": {
    "run_control": {
     "marked": false
    },
    "scrolled": true
   },
   "outputs": [
    {
     "data": {
      "text/plain": [
       "label\n",
       "dietitian            12.619048\n",
       "rapper               11.234375\n",
       "nurse                10.179805\n",
       "surgeon               6.433708\n",
       "yoga_teacher          5.695035\n",
       "dj                    5.648000\n",
       "software_engineer     5.623165\n",
       "paralegal             5.320261\n",
       "composer              5.139241\n",
       "model                 4.739191\n",
       "interior_designer     4.231707\n",
       "comedian              3.750725\n",
       "architect             3.445205\n",
       "pastor                3.158333\n",
       "chiropractor          2.595908\n",
       "filmmaker             1.958393\n",
       "dentist               1.875989\n",
       "photographer          1.855527\n",
       "accountant            1.764393\n",
       "attorney              1.648466\n",
       "psychologist          1.615404\n",
       "physician             1.533726\n",
       "teacher               1.455034\n",
       "professor             1.228106\n",
       "personal_trainer      1.217033\n",
       "painter               1.168466\n",
       "journalist            1.008003\n",
       "poet                  1.006545\n",
       "dtype: float64"
      ]
     },
     "execution_count": 4,
     "metadata": {},
     "output_type": "execute_result"
    },
    {
     "name": "stdout",
     "output_type": "stream",
     "text": [
      "macro disparate impact : 3.898171170378377\n"
     ]
    }
   ],
   "source": [
    "disparate_impact_df(df)\n",
    "\n",
    "print(\"macro disparate impact :\", disparate_impact_df(df).mean())"
   ]
  },
  {
   "cell_type": "markdown",
   "metadata": {},
   "source": [
    "### Utilities"
   ]
  },
  {
   "cell_type": "code",
   "execution_count": 5,
   "metadata": {
    "run_control": {
     "marked": false
    }
   },
   "outputs": [],
   "source": [
    "import re\n",
    "from time import time\n",
    "from sklearn import metrics\n",
    "from sklearn.model_selection import train_test_split\n",
    "from sklearn.metrics import accuracy_score, classification_report, f1_score\n",
    "\n",
    "def show_confusion_matrix(y_true, y_pred):\n",
    "    _=metrics.ConfusionMatrixDisplay(metrics.confusion_matrix(y_true, y_pred)).plot(include_values=False)\n",
    "    \n",
    "def score_report(y_true, y_pred):\n",
    "    r = classification_report(y_true, y_pred, target_names=category_names.values()).split(\"\\n\")\n",
    "    for line in [re.sub(\"\\\\s+[^ ]+$\",\"\",e) for e in r[:1] + r[31:-1]]: print(line)\n",
    "        \n",
    "def print_score_report(clf, Y_train, y_pred_train, Y_test, y_pred_test, gender_train, gender_test):\n",
    "    print(\"train\")\n",
    "    score_report(Y_train, y_pred_train)\n",
    "    macro_disparate_impact(y_pred_train, gender_train)\n",
    "    print(\"test\")\n",
    "    score_report(Y_test, y_pred_test)\n",
    "    macro_disparate_impact(y_pred_test, gender_test)\n",
    "    \n",
    "def fit_model_test(model, X_train, X_test, Y_train, Y_test, test_on_train_set=True, test_on_test_set=True):\n",
    "    t0 = time()\n",
    "    model.fit(X_train, Y_train)\n",
    "    print(\"train time: %0.3fs\" % (time() - t0))\n",
    "    \n",
    "    if test_on_train_set:\n",
    "        t0 = time()\n",
    "        Y_pred_train = model.predict(X_train)\n",
    "        print(\"test time (train set): %0.3fs\" % (time() - t0))\n",
    "    else: Y_pred_train = None\n",
    "    \n",
    "    if test_on_test_set:\n",
    "        t0 = time()\n",
    "        Y_pred_test = model.predict(X_test)\n",
    "        print(\"test time (test set) : %0.3fs\" % (time() - t0))\n",
    "    else: Y_pred_test = None\n",
    "    \n",
    "    return [Y_pred_train, Y_pred_test]"
   ]
  },
  {
   "cell_type": "code",
   "execution_count": 6,
   "metadata": {
    "run_control": {
     "marked": false
    }
   },
   "outputs": [],
   "source": [
    "import contextlib\n",
    "import joblib\n",
    "import os\n",
    "\n",
    "\n",
    "@contextlib.contextmanager\n",
    "def persist(name:str, dump:bool=True):\n",
    "    if type(name) != str:\n",
    "        raise TypeError(\"name must be a string\")\n",
    "    try:\n",
    "        try: \n",
    "            var = globals()[name]\n",
    "            yield var\n",
    "        except KeyError:\n",
    "            if os.path.isfile(name):\n",
    "                print(\"loading \" + name)\n",
    "                yield joblib.load(name)\n",
    "            else: yield\n",
    "    finally:\n",
    "        if dump:\n",
    "            try:\n",
    "                var = globals()[name]\n",
    "                if var != None and not os.path.isfile(name):\n",
    "                    joblib.dump(var, name)\n",
    "                    print(\"dumped \" + name)\n",
    "            except KeyError: raise RuntimeError(name + \" is not defined\")"
   ]
  },
  {
   "cell_type": "markdown",
   "metadata": {},
   "source": [
    "# Visualisation"
   ]
  },
  {
   "cell_type": "code",
   "execution_count": 8,
   "metadata": {
    "run_control": {
     "marked": false
    }
   },
   "outputs": [
    {
     "data": {
      "image/png": "[encoded data removed]",
      "text/plain": [
       "<Figure size 1080x576 with 1 Axes>"
      ]
     },
     "metadata": {
      "needs_background": "light"
     },
     "output_type": "display_data"
    }
   ],
   "source": [
    "d=df.groupby(['job', 'gender']).size().unstack('gender')\n",
    "d['sum']=d['F']+d['M']\n",
    "_=d.sort_values(by='sum').drop(columns='sum').plot.barh(figsize=(15,8), stacked=True)"
   ]
  },
  {
   "cell_type": "markdown",
   "metadata": {},
   "source": [
    "# Prétraitement"
   ]
  },
  {
   "cell_type": "markdown",
   "metadata": {},
   "source": [
    "### Fonctions de prétraitement"
   ]
  },
  {
   "cell_type": "code",
   "execution_count": 7,
   "metadata": {
    "run_control": {
     "marked": false
    }
   },
   "outputs": [],
   "source": [
    "def preprocess(text):\n",
    "    # remove : not charater or space, digit, words with size < 3\n",
    "    # to lowercase\n",
    "    return re.sub(r'[^\\w\\s]|\\d|\\b\\w{1,2}\\b', ' ', str(text)).strip().lower()\n",
    "\n",
    "\n",
    "lemmatizer = nltk.stem.WordNetLemmatizer()\n",
    "# tokenizer with lemmatization\n",
    "def tokenize(text):\n",
    "    return [lemmatizer.lemmatize(word) for word in nltk.word_tokenize(text)]\n",
    "\n",
    "\n",
    "def full_preprocessing(text):\n",
    "    l = tokenize(preprocess(text))\n",
    "    return \" \".join([w for w in l if w not in stop_words])"
   ]
  },
  {
   "cell_type": "markdown",
   "metadata": {},
   "source": [
    "### Stop words"
   ]
  },
  {
   "cell_type": "code",
   "execution_count": 8,
   "metadata": {
    "run_control": {
     "marked": false
    }
   },
   "outputs": [
    {
     "data": {
      "text/plain": [
       "FileSystemPathPointer('C:\\\\Users\\\\Pierre\\\\AppData\\\\Roaming\\\\nltk_data\\\\corpora\\\\stopwords')"
      ]
     },
     "execution_count": 8,
     "metadata": {},
     "output_type": "execute_result"
    },
    {
     "data": {
      "text/plain": [
       "FileSystemPathPointer('C:\\\\Users\\\\Pierre\\\\AppData\\\\Roaming\\\\nltk_data\\\\tokenizers\\\\punkt\\\\PY3')"
      ]
     },
     "execution_count": 8,
     "metadata": {},
     "output_type": "execute_result"
    },
    {
     "data": {
      "text/plain": [
       "FileSystemPathPointer('C:\\\\Users\\\\Pierre\\\\AppData\\\\Roaming\\\\nltk_data\\\\corpora\\\\wordnet')"
      ]
     },
     "execution_count": 8,
     "metadata": {},
     "output_type": "execute_result"
    },
    {
     "data": {
      "text/plain": [
       "FileSystemPathPointer('C:\\\\Users\\\\Pierre\\\\AppData\\\\Roaming\\\\nltk_data\\\\corpora\\\\names')"
      ]
     },
     "execution_count": 8,
     "metadata": {},
     "output_type": "execute_result"
    }
   ],
   "source": [
    "try: nltk.data.find('corpora/stopwords')\n",
    "except LookupError: nltk.download('stopwords')\n",
    "try: nltk.data.find('tokenizers/punkt')\n",
    "except LookupError: nltk.download('punkt')\n",
    "try: nltk.data.find('corpora/wordnet')\n",
    "except LookupError: nltk.download('wordnet')\n",
    "try: nltk.data.find('corpora/names')\n",
    "except LookupError: nltk.download('names')\n",
    "\n",
    "english_stopwords = nltk.corpus.stopwords.words(\"english\")\n",
    "male_names = [t.lower() for t in nltk.corpus.names.words('male.txt')]\n",
    "female_names = [t.lower() for t in nltk.corpus.names.words('female.txt')]\n",
    "\n",
    "# stopwords = common english + male and female names\n",
    "stop_words = english_stopwords + list(\n",
    "    itertools.chain.from_iterable(\n",
    "        [tokenize(preprocess(t)) for t in male_names])) + list(\n",
    "            itertools.chain.from_iterable(\n",
    "                [tokenize(preprocess(t)) for t in female_names]))"
   ]
  },
  {
   "cell_type": "markdown",
   "metadata": {},
   "source": [
    "### Exemple"
   ]
  },
  {
   "cell_type": "code",
   "execution_count": 13,
   "metadata": {
    "run_control": {
     "marked": false
    }
   },
   "outputs": [
    {
     "data": {
      "text/plain": [
       "' She is also a Ronald D. Asmus Policy Entrepreneur Fellow with the German Marshall Fund and is a Visiting Fellow at the Centre for International Studies (CIS) at the University of Oxford. This commentary first appeared at Sada, an online journal published by the Carnegie Endowment for International Peace.'"
      ]
     },
     "execution_count": 13,
     "metadata": {},
     "output_type": "execute_result"
    },
    {
     "data": {
      "text/plain": [
       "'also asmus policy entrepreneur fellow german fund visiting fellow centre international study ci university oxford commentary first appeared online journal published carnegie endowment international peace'"
      ]
     },
     "execution_count": 13,
     "metadata": {},
     "output_type": "execute_result"
    }
   ],
   "source": [
    "text = df.description[0]\n",
    "text\n",
    "full_preprocessing(text)"
   ]
  },
  {
   "cell_type": "markdown",
   "metadata": {},
   "source": [
    "# Modèles"
   ]
  },
  {
   "cell_type": "markdown",
   "metadata": {},
   "source": [
    "## TF - IDF"
   ]
  },
  {
   "cell_type": "code",
   "execution_count": 9,
   "metadata": {
    "run_control": {
     "marked": false
    }
   },
   "outputs": [
    {
     "name": "stdout",
     "output_type": "stream",
     "text": [
      "loading tfidf_vectorizer\n",
      "loading custom_X\n"
     ]
    },
    {
     "data": {
      "text/plain": [
       "(217197, 194282)"
      ]
     },
     "execution_count": 9,
     "metadata": {},
     "output_type": "execute_result"
    }
   ],
   "source": [
    "from sklearn.feature_extraction.text import TfidfVectorizer\n",
    "\n",
    "with persist('tfidf_vectorizer') as tfidf_vectorizer:\n",
    "    if tfidf_vectorizer == None:\n",
    "        tfidf_vectorizer = TfidfVectorizer(strip_accents='unicode',\n",
    "                                            preprocessor=preprocess,\n",
    "                                            tokenizer=tokenize,\n",
    "                                            stop_words=stop_words,\n",
    "                                            sublinear_tf=True).fit(df.description)\n",
    "\n",
    "with persist('custom_X') as custom_X:\n",
    "    if custom_X == None:\n",
    "        custom_X = tfidf_vectorizer.transform(df.description)\n",
    "\n",
    "X = custom_X\n",
    "X.shape"
   ]
  },
  {
   "cell_type": "code",
   "execution_count": 14,
   "metadata": {
    "run_control": {
     "marked": false
    }
   },
   "outputs": [
    {
     "data": {
      "text/plain": [
       "' She is also a Ronald D. Asmus Policy Entrepreneur Fellow with the German Marshall Fund and is a Visiting Fellow at the Centre for International Studies (CIS) at the University of Oxford. This commentary first appeared at Sada, an online journal published by the Carnegie Endowment for International Peace.'"
      ]
     },
     "execution_count": 14,
     "metadata": {},
     "output_type": "execute_result"
    },
    {
     "data": {
      "text/plain": [
       "[array(['visiting', 'university', 'study', 'published', 'policy', 'peace',\n",
       "        'oxford', 'online', 'journal', 'international', 'german', 'fund',\n",
       "        'first', 'fellow', 'entrepreneur', 'endowment', 'commentary', 'ci',\n",
       "        'centre', 'carnegie', 'asmus', 'appeared', 'also'], dtype='<U92')]"
      ]
     },
     "execution_count": 14,
     "metadata": {},
     "output_type": "execute_result"
    }
   ],
   "source": [
    "text\n",
    "tfidf_vectorizer.inverse_transform(tfidf_vectorizer.transform([text]))"
   ]
  },
  {
   "cell_type": "markdown",
   "metadata": {},
   "source": [
    "### Entraînement"
   ]
  },
  {
   "cell_type": "code",
   "execution_count": 13,
   "metadata": {
    "run_control": {
     "marked": false
    }
   },
   "outputs": [],
   "source": [
    "X_train, X_test, Y_train, Y_test, gender_train, gender_test = train_test_split(X,\n",
    "                                                                               df.label,\n",
    "                                                                               df.gender,\n",
    "                                                                               test_size=0.2,\n",
    "                                                                               random_state=211101)\n",
    "\n",
    "# smaller set\n",
    "N_train = 50_000\n",
    "np.random.seed(211101)\n",
    "idxs = np.random.choice(X.shape[0], N_train, replace=False)\n",
    "x=X[idxs, :]\n",
    "x_train, x_test, y_train, y_test, g_train, g_test = train_test_split(x,\n",
    "                                                    df.label.iloc[idxs],\n",
    "                                                    df.gender.iloc[idxs],\n",
    "                                                    test_size=0.2,\n",
    "                                                    random_state=211101)"
   ]
  },
  {
   "cell_type": "markdown",
   "metadata": {},
   "source": [
    "#### KNN"
   ]
  },
  {
   "cell_type": "code",
   "execution_count": 16,
   "metadata": {
    "run_control": {
     "marked": false
    },
    "scrolled": true
   },
   "outputs": [
    {
     "name": "stdout",
     "output_type": "stream",
     "text": [
      "train time: 0.016s\n",
      "test time (train set): 61.427s\n",
      "test time (test set) : 14.392s\n"
     ]
    }
   ],
   "source": [
    "from sklearn.neighbors import KNeighborsClassifier\n",
    "\n",
    "model = KNeighborsClassifier(n_neighbors=int(sqrt(x_train.shape[0])), n_jobs=-1)\n",
    "\n",
    "y_pred_train, y_pred_test = fit_model_test(model, x_train, x_test, y_train, y_test)"
   ]
  },
  {
   "cell_type": "code",
   "execution_count": 17,
   "metadata": {
    "run_control": {
     "marked": false
    }
   },
   "outputs": [
    {
     "name": "stdout",
     "output_type": "stream",
     "text": [
      "train\n",
      "                   precision    recall  f1-score\n",
      "         accuracy                           0.68\n",
      "        macro avg       0.79      0.47      0.55\n",
      "     weighted avg       0.72      0.68      0.65\n",
      "   macro fairness                          4.19\n",
      "test\n",
      "                   precision    recall  f1-score\n",
      "         accuracy                           0.68\n",
      "        macro avg       0.80      0.47      0.54\n",
      "     weighted avg       0.72      0.68      0.65\n",
      "   macro fairness                          3.32\n"
     ]
    }
   ],
   "source": [
    "print_score_report(model, y_train, y_pred_train, y_test, y_pred_test, g_train, g_test)"
   ]
  },
  {
   "cell_type": "code",
   "execution_count": null,
   "metadata": {
    "run_control": {
     "marked": false
    }
   },
   "outputs": [],
   "source": [
    "show_confusion_matrix(y_train, y_pred_train)\n",
    "show_confusion_matrix(y_test, y_pred_test)"
   ]
  },
  {
   "cell_type": "markdown",
   "metadata": {},
   "source": [
    "#### Random Forest"
   ]
  },
  {
   "cell_type": "code",
   "execution_count": 25,
   "metadata": {
    "run_control": {
     "marked": false
    },
    "scrolled": true
   },
   "outputs": [
    {
     "name": "stdout",
     "output_type": "stream",
     "text": [
      "train time: 98.431s\n",
      "test time (train set): 1.046s\n",
      "test time (test set) : 0.300s\n"
     ]
    }
   ],
   "source": [
    "from sklearn.ensemble import RandomForestClassifier\n",
    "\n",
    "random_forest_clf = RandomForestClassifier(n_estimators=100,\n",
    "                                           max_depth=150,\n",
    "                                           n_jobs=-1,\n",
    "                                           random_state=211101)\n",
    "y_pred_train, y_pred_test = fit_model_test(random_forest_clf, x_train, x_test, y_train, y_test)"
   ]
  },
  {
   "cell_type": "code",
   "execution_count": 29,
   "metadata": {
    "run_control": {
     "marked": false
    }
   },
   "outputs": [
    {
     "name": "stdout",
     "output_type": "stream",
     "text": [
      "train\n",
      "                   precision    recall  f1-score\n",
      "         accuracy                           0.99\n",
      "        macro avg       1.00      0.98      0.99\n",
      "     weighted avg       0.99      0.99      0.99\n",
      "   macro fairness                          3.895\n",
      "test\n",
      "                   precision    recall  f1-score\n",
      "         accuracy                           0.65\n",
      "        macro avg       0.79      0.39      0.47\n",
      "     weighted avg       0.72      0.65      0.62\n",
      "   macro fairness                          5.827\n"
     ]
    }
   ],
   "source": [
    "print_score_report(random_forest_clf, y_train, y_pred_train, y_test, y_pred_test, g_train, g_test)"
   ]
  },
  {
   "cell_type": "code",
   "execution_count": null,
   "metadata": {
    "run_control": {
     "marked": false
    }
   },
   "outputs": [],
   "source": [
    "show_confusion_matrix(y_train, y_pred_train)\n",
    "show_confusion_matrix(y_test, y_pred_test)"
   ]
  },
  {
   "cell_type": "markdown",
   "metadata": {},
   "source": [
    "#### SGD"
   ]
  },
  {
   "cell_type": "code",
   "execution_count": 187,
   "metadata": {
    "run_control": {
     "marked": false
    }
   },
   "outputs": [
    {
     "name": "stdout",
     "output_type": "stream",
     "text": [
      "train time: 14.682s\n",
      "test time (train set): 0.258s\n",
      "test time (test set) : 0.125s\n"
     ]
    }
   ],
   "source": [
    "from sklearn.linear_model import SGDClassifier\n",
    "\n",
    "model = SGDClassifier(max_iter=10000,\n",
    "                    tol=1e-5,\n",
    "                    loss='hinge',\n",
    "                    penalty='l2',\n",
    "                    n_jobs=-1,\n",
    "                    random_state=211101)\n",
    "\n",
    "Y_pred_train, Y_pred_test = fit_model_test(model, X_train, X_test, Y_train, Y_test)"
   ]
  },
  {
   "cell_type": "code",
   "execution_count": 188,
   "metadata": {
    "run_control": {
     "marked": false
    },
    "scrolled": true
   },
   "outputs": [
    {
     "name": "stdout",
     "output_type": "stream",
     "text": [
      "train\n",
      "                   precision    recall  f1-score\n",
      "         accuracy                           0.80\n",
      "        macro avg       0.81      0.72      0.75\n",
      "     weighted avg       0.81      0.80      0.80\n",
      "   macro fairness                          3.416\n",
      "test\n",
      "                   precision    recall  f1-score\n",
      "         accuracy                           0.78\n",
      "        macro avg       0.76      0.66      0.69\n",
      "     weighted avg       0.77      0.78      0.77\n",
      "   macro fairness                          3.078\n"
     ]
    }
   ],
   "source": [
    "print_score_report(model, Y_train, Y_pred_train, Y_test, Y_pred_test, gender_train, gender_test)"
   ]
  },
  {
   "cell_type": "code",
   "execution_count": 74,
   "metadata": {
    "run_control": {
     "marked": false
    }
   },
   "outputs": [
    {
     "data": {
      "application/vnd.jupyter.widget-view+json": {
       "model_id": "aedcfb95cc88437d947942c790972435",
       "version_major": 2,
       "version_minor": 0
      },
      "text/plain": [
       "Canvas(toolbar=Toolbar(toolitems=[('Home', 'Reset original view', 'home', 'home'), ('Back', 'Back to previous …"
      ]
     },
     "metadata": {},
     "output_type": "display_data"
    },
    {
     "data": {
      "application/vnd.jupyter.widget-view+json": {
       "model_id": "479173ae2b2648c59839fa6dae7d5bd2",
       "version_major": 2,
       "version_minor": 0
      },
      "text/plain": [
       "Canvas(toolbar=Toolbar(toolitems=[('Home', 'Reset original view', 'home', 'home'), ('Back', 'Back to previous …"
      ]
     },
     "metadata": {},
     "output_type": "display_data"
    }
   ],
   "source": [
    "show_confusion_matrix(Y_train, Y_pred_train)\n",
    "show_confusion_matrix(Y_test, Y_pred_test)"
   ]
  },
  {
   "cell_type": "markdown",
   "metadata": {},
   "source": [
    "#### Naive bayes"
   ]
  },
  {
   "cell_type": "code",
   "execution_count": 189,
   "metadata": {
    "run_control": {
     "marked": false
    }
   },
   "outputs": [
    {
     "name": "stdout",
     "output_type": "stream",
     "text": [
      "train time: 0.515s\n",
      "test time (train set): 0.209s\n",
      "test time (test set) : 0.067s\n"
     ]
    }
   ],
   "source": [
    "from sklearn.naive_bayes import ComplementNB\n",
    "\n",
    "model = ComplementNB()\n",
    "\n",
    "Y_pred_train, Y_pred_test = fit_model_test(model, X_train, X_test, Y_train, Y_test)"
   ]
  },
  {
   "cell_type": "code",
   "execution_count": 190,
   "metadata": {
    "run_control": {
     "marked": false
    },
    "scrolled": true
   },
   "outputs": [
    {
     "name": "stdout",
     "output_type": "stream",
     "text": [
      "train\n",
      "                   precision    recall  f1-score\n",
      "         accuracy                           0.79\n",
      "        macro avg       0.86      0.68      0.73\n",
      "     weighted avg       0.80      0.79      0.78\n",
      "   macro fairness                          3.58\n",
      "test\n",
      "                   precision    recall  f1-score\n",
      "         accuracy                           0.71\n",
      "        macro avg       0.76      0.55      0.60\n",
      "     weighted avg       0.72      0.71      0.69\n",
      "   macro fairness                          3.147\n"
     ]
    }
   ],
   "source": [
    "print_score_report(model, Y_train, Y_pred_train, Y_test, Y_pred_test, gender_train, gender_test)"
   ]
  },
  {
   "cell_type": "code",
   "execution_count": null,
   "metadata": {
    "run_control": {
     "marked": false
    }
   },
   "outputs": [],
   "source": [
    "show_confusion_matrix(Y_train, Y_pred_train)\n",
    "show_confusion_matrix(Y_test, Y_pred_test)"
   ]
  },
  {
   "cell_type": "markdown",
   "metadata": {},
   "source": [
    "#### SVM"
   ]
  },
  {
   "cell_type": "markdown",
   "metadata": {},
   "source": [
    "##### Linear"
   ]
  },
  {
   "cell_type": "code",
   "execution_count": 22,
   "metadata": {},
   "outputs": [
    {
     "name": "stdout",
     "output_type": "stream",
     "text": [
      "train time: 39.160s\n",
      "test time (train set): 0.201s\n",
      "test time (test set) : 0.052s\n",
      "train\n",
      "                   precision    recall  f1-score\n",
      "         accuracy                           0.86\n",
      "        macro avg       0.86      0.80      0.83\n",
      "     weighted avg       0.86      0.86      0.86\n",
      "   macro fairness                          3.802\n",
      "test\n",
      "                   precision    recall  f1-score\n",
      "         accuracy                           0.80\n",
      "        macro avg       0.80      0.70      0.74\n",
      "     weighted avg       0.80      0.80      0.79\n",
      "   macro fairness                          3.267\n"
     ]
    }
   ],
   "source": [
    "from sklearn.svm import LinearSVC\n",
    "\n",
    "model = LinearSVC(max_iter=1e9, # default : 1000\n",
    "                  tol=1e-5, # default : 1e-3\n",
    "                  C=0.1, # default : 1\n",
    "                  dual=False,\n",
    "                  random_state=211101)\n",
    "\n",
    "Y_pred_train, Y_pred_test = fit_model_test(model, X_train, X_test, Y_train, Y_test)\n",
    "\n",
    "print_score_report(model, Y_train, Y_pred_train, Y_test, Y_pred_test, gender_train, gender_test)"
   ]
  },
  {
   "cell_type": "markdown",
   "metadata": {},
   "source": [
    "##### RBF"
   ]
  },
  {
   "cell_type": "code",
   "execution_count": null,
   "metadata": {},
   "outputs": [],
   "source": []
  },
  {
   "cell_type": "markdown",
   "metadata": {},
   "source": [
    "### Entraînement avec Feature selection"
   ]
  },
  {
   "cell_type": "code",
   "execution_count": 15,
   "metadata": {
    "run_control": {
     "marked": false
    }
   },
   "outputs": [
    {
     "data": {
      "text/plain": [
       "(217197, 19429)"
      ]
     },
     "execution_count": 15,
     "metadata": {},
     "output_type": "execute_result"
    }
   ],
   "source": [
    "from sklearn.feature_selection import SelectKBest\n",
    "from sklearn.feature_selection import SelectPercentile\n",
    "from sklearn.feature_selection import chi2\n",
    "\n",
    "X_selected = SelectPercentile(chi2, percentile=10).fit_transform(X, df.label)\n",
    "X_selected.shape\n",
    "X_s_train, X_s_test, Y_s_train, Y_s_test, G_s_train, G_s_test = train_test_split(X_selected,\n",
    "                                                                                 df.label,\n",
    "                                                                                 df.gender,\n",
    "                                                                                 test_size=0.2,\n",
    "                                                                                 random_state=211101)\n",
    "\n",
    "# smaller set\n",
    "N_train = 50_000\n",
    "np.random.seed(211101)\n",
    "idxs = np.random.choice(X.shape[0], N_train, replace=False)\n",
    "x_selected=X[idxs, :]\n",
    "x_s_train, x_s_test, y_s_train, y_s_test, g_s_train, g_s_test = train_test_split(x_selected,\n",
    "                                                                                 df.label.iloc[idxs],\n",
    "                                                                                 df.gender.iloc[idxs],\n",
    "                                                                                 test_size=0.2,\n",
    "                                                                                 random_state=211101)"
   ]
  },
  {
   "cell_type": "markdown",
   "metadata": {},
   "source": [
    "#### KNN"
   ]
  },
  {
   "cell_type": "code",
   "execution_count": 32,
   "metadata": {
    "run_control": {
     "marked": false
    },
    "scrolled": true
   },
   "outputs": [
    {
     "name": "stdout",
     "output_type": "stream",
     "text": [
      "train time: 0.011s\n",
      "test time (train set): 59.348s\n",
      "test time (test set) : 13.073s\n"
     ]
    }
   ],
   "source": [
    "from sklearn.neighbors import KNeighborsClassifier\n",
    "\n",
    "model = KNeighborsClassifier(n_neighbors=int(sqrt(x_train.shape[0])), n_jobs=-1)\n",
    "\n",
    "y_s_pred_train, y_s_pred_test = fit_model_test(model, x_s_train, x_s_test, y_s_train, y_s_test)"
   ]
  },
  {
   "cell_type": "code",
   "execution_count": 33,
   "metadata": {
    "run_control": {
     "marked": false
    }
   },
   "outputs": [
    {
     "name": "stdout",
     "output_type": "stream",
     "text": [
      "train\n",
      "                   precision    recall  f1-score\n",
      "         accuracy                           0.68\n",
      "        macro avg       0.79      0.47      0.55\n",
      "     weighted avg       0.72      0.68      0.65\n",
      "   macro fairness                          4.19\n",
      "test\n",
      "                   precision    recall  f1-score\n",
      "         accuracy                           0.68\n",
      "        macro avg       0.80      0.47      0.54\n",
      "     weighted avg       0.72      0.68      0.65\n",
      "   macro fairness                          3.32\n"
     ]
    }
   ],
   "source": [
    "print_score_report(model, y_s_train, y_s_pred_train, y_s_test, y_s_pred_test, g_s_train, g_s_test)"
   ]
  },
  {
   "cell_type": "code",
   "execution_count": 34,
   "metadata": {
    "run_control": {
     "marked": false
    }
   },
   "outputs": [
    {
     "data": {
      "application/vnd.jupyter.widget-view+json": {
       "model_id": "8299c60f19904508aa95711058e39e84",
       "version_major": 2,
       "version_minor": 0
      },
      "text/plain": [
       "Canvas(toolbar=Toolbar(toolitems=[('Home', 'Reset original view', 'home', 'home'), ('Back', 'Back to previous …"
      ]
     },
     "metadata": {},
     "output_type": "display_data"
    },
    {
     "data": {
      "application/vnd.jupyter.widget-view+json": {
       "model_id": "387c97d0e7e54badab64c6667392ee58",
       "version_major": 2,
       "version_minor": 0
      },
      "text/plain": [
       "Canvas(toolbar=Toolbar(toolitems=[('Home', 'Reset original view', 'home', 'home'), ('Back', 'Back to previous …"
      ]
     },
     "metadata": {},
     "output_type": "display_data"
    }
   ],
   "source": [
    "show_confusion_matrix(y_s_train, y_s_pred_train)\n",
    "show_confusion_matrix(y_s_test, y_s_pred_test)"
   ]
  },
  {
   "cell_type": "markdown",
   "metadata": {},
   "source": [
    "#### Random Forest"
   ]
  },
  {
   "cell_type": "code",
   "execution_count": 38,
   "metadata": {
    "run_control": {
     "marked": false
    }
   },
   "outputs": [
    {
     "name": "stdout",
     "output_type": "stream",
     "text": [
      "train time: 101.359s\n",
      "test time (train set): 1.114s\n",
      "test time (test set) : 0.318s\n"
     ]
    }
   ],
   "source": [
    "from sklearn.ensemble import RandomForestClassifier\n",
    "\n",
    "random_forest_clf = RandomForestClassifier(n_estimators=100,\n",
    "                                           max_depth=150,\n",
    "                                           n_jobs=-1,\n",
    "                                           random_state=211101)\n",
    "\n",
    "y_s_pred_train, y_s_pred_test = fit_model_test(random_forest_clf, x_s_train, x_s_test, y_s_train, y_s_test)"
   ]
  },
  {
   "cell_type": "code",
   "execution_count": 41,
   "metadata": {
    "run_control": {
     "marked": false
    }
   },
   "outputs": [
    {
     "name": "stdout",
     "output_type": "stream",
     "text": [
      "train\n",
      "                   precision    recall  f1-score\n",
      "         accuracy                           0.99\n",
      "        macro avg       1.00      0.98      0.99\n",
      "     weighted avg       0.99      0.99      0.99\n",
      "   macro fairness                          3.895\n",
      "test\n",
      "                   precision    recall  f1-score\n",
      "         accuracy                           0.65\n",
      "        macro avg       0.79      0.39      0.47\n",
      "     weighted avg       0.72      0.65      0.62\n",
      "   macro fairness                          5.827\n"
     ]
    }
   ],
   "source": [
    "print_score_report(model, y_s_train, y_s_pred_train, y_s_test, y_s_pred_test, g_s_train, g_s_test)"
   ]
  },
  {
   "cell_type": "code",
   "execution_count": 42,
   "metadata": {
    "run_control": {
     "marked": false
    }
   },
   "outputs": [
    {
     "data": {
      "application/vnd.jupyter.widget-view+json": {
       "model_id": "13381a4d76e94054ada29bd24b999665",
       "version_major": 2,
       "version_minor": 0
      },
      "text/plain": [
       "Canvas(toolbar=Toolbar(toolitems=[('Home', 'Reset original view', 'home', 'home'), ('Back', 'Back to previous …"
      ]
     },
     "metadata": {},
     "output_type": "display_data"
    },
    {
     "data": {
      "application/vnd.jupyter.widget-view+json": {
       "model_id": "1d057b4e0e33459982e1a32406db5522",
       "version_major": 2,
       "version_minor": 0
      },
      "text/plain": [
       "Canvas(toolbar=Toolbar(toolitems=[('Home', 'Reset original view', 'home', 'home'), ('Back', 'Back to previous …"
      ]
     },
     "metadata": {},
     "output_type": "display_data"
    }
   ],
   "source": [
    "show_confusion_matrix(y_s_train, y_s_pred_train)\n",
    "show_confusion_matrix(y_s_test, y_s_pred_test)"
   ]
  },
  {
   "cell_type": "markdown",
   "metadata": {},
   "source": [
    "#### SGD"
   ]
  },
  {
   "cell_type": "code",
   "execution_count": 16,
   "metadata": {
    "run_control": {
     "marked": false
    }
   },
   "outputs": [
    {
     "name": "stdout",
     "output_type": "stream",
     "text": [
      "train time: 5.962s\n",
      "test time (train set): 0.125s\n",
      "test time (test set) : 0.032s\n"
     ]
    }
   ],
   "source": [
    "from sklearn.linear_model import SGDClassifier\n",
    "\n",
    "model = SGDClassifier(max_iter=10000,\n",
    "                    tol=1e-5,\n",
    "                    loss='hinge',\n",
    "                    penalty='l2',\n",
    "                    n_jobs=-1,\n",
    "                    random_state=211101)\n",
    "\n",
    "Y_s_pred_train, Y_s_pred_test = fit_model_test(model, X_s_train, X_s_test, Y_s_train, Y_s_test)"
   ]
  },
  {
   "cell_type": "code",
   "execution_count": 171,
   "metadata": {
    "run_control": {
     "marked": false
    },
    "scrolled": true
   },
   "outputs": [
    {
     "name": "stdout",
     "output_type": "stream",
     "text": [
      "train\n",
      "                   precision    recall  f1-score\n",
      "         accuracy                           0.79\n",
      "        macro avg       0.78      0.70      0.73\n",
      "     weighted avg       0.79      0.79      0.78\n",
      "   macro fairness                          3.276\n",
      "test\n",
      "                   precision    recall  f1-score\n",
      "         accuracy                           0.77\n",
      "        macro avg       0.76      0.66      0.69\n",
      "     weighted avg       0.77      0.77      0.77\n",
      "   macro fairness                          3.022\n"
     ]
    }
   ],
   "source": [
    "print_score_report(model, Y_s_train, Y_s_pred_train, Y_s_test, Y_s_pred_test, G_s_train, G_s_test)"
   ]
  },
  {
   "cell_type": "code",
   "execution_count": null,
   "metadata": {
    "run_control": {
     "marked": false
    }
   },
   "outputs": [],
   "source": [
    "show_confusion_matrix(Y_s_train, Y_s_pred_train)\n",
    "show_confusion_matrix(Y_s_test, Y_s_pred_test)"
   ]
  },
  {
   "cell_type": "markdown",
   "metadata": {},
   "source": [
    "#### Naive bayes"
   ]
  },
  {
   "cell_type": "code",
   "execution_count": 140,
   "metadata": {
    "run_control": {
     "marked": false
    }
   },
   "outputs": [
    {
     "name": "stdout",
     "output_type": "stream",
     "text": [
      "train time: 0.199s\n",
      "test time (train set): 0.102s\n",
      "test time (test set) : 0.034s\n"
     ]
    }
   ],
   "source": [
    "from sklearn.naive_bayes import ComplementNB\n",
    "\n",
    "model = ComplementNB()\n",
    "\n",
    "Y_s_pred_train, Y_s_pred_test = fit_model_test(model, X_s_train, X_s_test, Y_s_train, Y_s_test)"
   ]
  },
  {
   "cell_type": "code",
   "execution_count": 141,
   "metadata": {
    "run_control": {
     "marked": false
    },
    "scrolled": true
   },
   "outputs": [
    {
     "name": "stdout",
     "output_type": "stream",
     "text": [
      "train\n",
      "                   precision    recall  f1-score\n",
      "         accuracy                           0.74\n",
      "        macro avg       0.78      0.65      0.69\n",
      "     weighted avg       0.75      0.74      0.73\n",
      "test\n",
      "                   precision    recall  f1-score\n",
      "         accuracy                           0.73\n",
      "        macro avg       0.75      0.59      0.63\n",
      "     weighted avg       0.73      0.73      0.71\n"
     ]
    }
   ],
   "source": [
    "print_score_report(model, Y_s_train, Y_s_pred_train, Y_s_test, Y_s_pred_test, G_s_train, G_s_test)"
   ]
  },
  {
   "cell_type": "code",
   "execution_count": null,
   "metadata": {
    "run_control": {
     "marked": false
    }
   },
   "outputs": [],
   "source": [
    "show_confusion_matrix(Y_s_train, Y_s_pred_train)\n",
    "show_confusion_matrix(Y_s_test, Y_s_pred_test)"
   ]
  },
  {
   "cell_type": "markdown",
   "metadata": {},
   "source": [
    " #### SVM"
   ]
  },
  {
   "cell_type": "code",
   "execution_count": 18,
   "metadata": {},
   "outputs": [
    {
     "name": "stdout",
     "output_type": "stream",
     "text": [
      "train time: 27.187s\n",
      "test time (train set): 0.107s\n",
      "test time (test set) : 0.027s\n",
      "\n",
      "train\n",
      "                   precision    recall  f1-score\n",
      "         accuracy                           0.83\n",
      "        macro avg       0.83      0.76      0.79\n",
      "     weighted avg       0.83      0.83      0.82\n",
      "   macro fairness                          3.683\n",
      "test\n",
      "                   precision    recall  f1-score\n",
      "         accuracy                           0.80\n",
      "        macro avg       0.80      0.70      0.74\n",
      "     weighted avg       0.80      0.80      0.79\n",
      "   macro fairness                          3.258\n"
     ]
    }
   ],
   "source": [
    "from sklearn.svm import LinearSVC\n",
    "\n",
    "model = LinearSVC(max_iter=1e9, # default : 1000\n",
    "                  tol=1e-5, # default : 1e-3\n",
    "                  C=0.1, # default : 1\n",
    "                  dual=False,\n",
    "                  random_state=211101)\n",
    "\n",
    "Y_s_pred_train, Y_s_pred_test = fit_model_test(model, X_s_train, X_s_test, Y_s_train, Y_s_test)\n",
    "print()\n",
    "print_score_report(model, Y_s_train, Y_s_pred_train, Y_s_test, Y_s_pred_test, G_s_train, G_s_test)"
   ]
  },
  {
   "cell_type": "code",
   "execution_count": 25,
   "metadata": {},
   "outputs": [
    {
     "data": {
      "image/png": "[encoded data removed]",
      "text/plain": [
       "<Figure size 432x288 with 2 Axes>"
      ]
     },
     "metadata": {
      "needs_background": "light"
     },
     "output_type": "display_data"
    },
    {
     "data": {
      "image/png": "[encoded data removed]",
      "text/plain": [
       "<Figure size 432x288 with 2 Axes>"
      ]
     },
     "metadata": {
      "needs_background": "light"
     },
     "output_type": "display_data"
    }
   ],
   "source": [
    "show_confusion_matrix(Y_s_train, Y_s_pred_train)\n",
    "show_confusion_matrix(Y_s_test, Y_s_pred_test)"
   ]
  },
  {
   "cell_type": "markdown",
   "metadata": {},
   "source": [
    "## Catboost"
   ]
  },
  {
   "cell_type": "markdown",
   "metadata": {},
   "source": [
    "### With Gender"
   ]
  },
  {
   "cell_type": "code",
   "execution_count": 17,
   "metadata": {
    "run_control": {
     "marked": false
    }
   },
   "outputs": [
    {
     "data": {
      "text/html": [
       "<div>\n",
       "<style scoped>\n",
       "    .dataframe tbody tr th:only-of-type {\n",
       "        vertical-align: middle;\n",
       "    }\n",
       "\n",
       "    .dataframe tbody tr th {\n",
       "        vertical-align: top;\n",
       "    }\n",
       "\n",
       "    .dataframe thead th {\n",
       "        text-align: right;\n",
       "    }\n",
       "</style>\n",
       "<table border=\"1\" class=\"dataframe\">\n",
       "  <thead>\n",
       "    <tr style=\"text-align: right;\">\n",
       "      <th></th>\n",
       "      <th>description</th>\n",
       "      <th>gender</th>\n",
       "    </tr>\n",
       "    <tr>\n",
       "      <th>Id</th>\n",
       "      <th></th>\n",
       "      <th></th>\n",
       "    </tr>\n",
       "  </thead>\n",
       "  <tbody>\n",
       "    <tr>\n",
       "      <th>0</th>\n",
       "      <td>she is also a ronald d. asmus policy entrepre...</td>\n",
       "      <td>1</td>\n",
       "    </tr>\n",
       "    <tr>\n",
       "      <th>1</th>\n",
       "      <td>he is a member of the aicpa and wicpa. brent ...</td>\n",
       "      <td>0</td>\n",
       "    </tr>\n",
       "    <tr>\n",
       "      <th>2</th>\n",
       "      <td>dr. aster has held teaching and research posi...</td>\n",
       "      <td>0</td>\n",
       "    </tr>\n",
       "    <tr>\n",
       "      <th>3</th>\n",
       "      <td>he runs a boutique design studio attending cl...</td>\n",
       "      <td>0</td>\n",
       "    </tr>\n",
       "    <tr>\n",
       "      <th>4</th>\n",
       "      <td>he focuses on cloud security, identity and ac...</td>\n",
       "      <td>0</td>\n",
       "    </tr>\n",
       "  </tbody>\n",
       "</table>\n",
       "</div>"
      ],
      "text/plain": [
       "                                          description gender\n",
       "Id                                                          \n",
       "0    she is also a ronald d. asmus policy entrepre...      1\n",
       "1    he is a member of the aicpa and wicpa. brent ...      0\n",
       "2    dr. aster has held teaching and research posi...      0\n",
       "3    he runs a boutique design studio attending cl...      0\n",
       "4    he focuses on cloud security, identity and ac...      0"
      ]
     },
     "execution_count": 17,
     "metadata": {},
     "output_type": "execute_result"
    }
   ],
   "source": [
    "df2 = df.drop(['label', 'job'], axis='columns')\n",
    "df2['description'] = df['description'].str.lower()\n",
    "df2.loc[df2['gender'] == 'M', 'gender'] = 0\n",
    "df2.loc[df2['gender'] == 'F', 'gender'] = 1\n",
    "\n",
    "df2.head()\n",
    "\n",
    "x_catboost_train, x_catboost_test, y_catboost_train, y_catboost_test, g_cb_train, g_cb_test = train_test_split(\n",
    "    df2, df.label, df.gender, test_size=0.2, random_state=211101)"
   ]
  },
  {
   "cell_type": "code",
   "execution_count": 20,
   "metadata": {
    "run_control": {
     "marked": false
    }
   },
   "outputs": [],
   "source": [
    "from catboost import Pool, CatBoostClassifier\n",
    "\n",
    "catboost_filename = 'catboost_model_with_gender.dump'\n",
    "\n",
    "if os.path.isfile(catboost_filename):\n",
    "    model = CatBoostClassifier().load_model(catboost_filename)\n",
    "else:\n",
    "    train_pool = Pool(x_catboost_train,\n",
    "                      y_catboost_train,\n",
    "                      text_features=['description'])\n",
    "    test_pool = Pool(x_catboost_test,\n",
    "                     y_catboost_test,\n",
    "                     text_features=['description'])\n",
    "\n",
    "    catboost_params = {\n",
    "        'iterations': 3000,\n",
    "        'learning_rate': 0.1,\n",
    "        'task_type': 'GPU',\n",
    "        'devices': '0-1',\n",
    "        'early_stopping_rounds': 5000,\n",
    "        'use_best_model': True,\n",
    "        'verbose': False\n",
    "    }\n",
    "    model = CatBoostClassifier(**catboost_params)\n",
    "    model.fit(train_pool, eval_set=test_pool, plot=True)\n",
    "\n",
    "    model.save_model(catboost_filename)\n",
    "\n",
    "y_catboost_pred_train = model.predict(x_catboost_train)\n",
    "x_catboost_pred_test = model.predict(x_catboost_test)"
   ]
  },
  {
   "cell_type": "code",
   "execution_count": 21,
   "metadata": {},
   "outputs": [
    {
     "name": "stdout",
     "output_type": "stream",
     "text": [
      "train\n",
      "                   precision    recall  f1-score\n",
      "         accuracy                           0.80\n",
      "        macro avg       0.75      0.75      0.75\n",
      "     weighted avg       0.81      0.80      0.80\n",
      "   macro fairness                          5.406\n",
      "test\n",
      "                   precision    recall  f1-score\n",
      "         accuracy                           0.80\n",
      "        macro avg       0.76      0.75      0.75\n",
      "     weighted avg       0.81      0.80      0.80\n",
      "   macro fairness                          5.472\n"
     ]
    }
   ],
   "source": [
    "print_score_report(model,\n",
    "                   y_catboost_train, y_catboost_pred_train.flatten(),\n",
    "                   y_catboost_test, x_catboost_pred_test.flatten(),\n",
    "                   g_cb_train, g_cb_test)"
   ]
  },
  {
   "cell_type": "code",
   "execution_count": 26,
   "metadata": {},
   "outputs": [
    {
     "data": {
      "image/png": "[encoded data removed]",
      "text/plain": [
       "<Figure size 432x288 with 2 Axes>"
      ]
     },
     "metadata": {
      "needs_background": "light"
     },
     "output_type": "display_data"
    },
    {
     "data": {
      "image/png": "[encoded data removed]",
      "text/plain": [
       "<Figure size 432x288 with 2 Axes>"
      ]
     },
     "metadata": {
      "needs_background": "light"
     },
     "output_type": "display_data"
    }
   ],
   "source": [
    "show_confusion_matrix(y_catboost_train, y_catboost_pred_train)\n",
    "show_confusion_matrix(y_catboost_test, x_catboost_pred_test)"
   ]
  },
  {
   "cell_type": "markdown",
   "metadata": {},
   "source": [
    "### Without Gender"
   ]
  },
  {
   "cell_type": "code",
   "execution_count": 8,
   "metadata": {
    "run_control": {
     "marked": false
    }
   },
   "outputs": [
    {
     "data": {
      "text/html": [
       "<div>\n",
       "<style scoped>\n",
       "    .dataframe tbody tr th:only-of-type {\n",
       "        vertical-align: middle;\n",
       "    }\n",
       "\n",
       "    .dataframe tbody tr th {\n",
       "        vertical-align: top;\n",
       "    }\n",
       "\n",
       "    .dataframe thead th {\n",
       "        text-align: right;\n",
       "    }\n",
       "</style>\n",
       "<table border=\"1\" class=\"dataframe\">\n",
       "  <thead>\n",
       "    <tr style=\"text-align: right;\">\n",
       "      <th></th>\n",
       "      <th>description</th>\n",
       "    </tr>\n",
       "    <tr>\n",
       "      <th>Id</th>\n",
       "      <th></th>\n",
       "    </tr>\n",
       "  </thead>\n",
       "  <tbody>\n",
       "    <tr>\n",
       "      <th>0</th>\n",
       "      <td>she is also a ronald d. asmus policy entrepre...</td>\n",
       "    </tr>\n",
       "    <tr>\n",
       "      <th>1</th>\n",
       "      <td>he is a member of the aicpa and wicpa. brent ...</td>\n",
       "    </tr>\n",
       "    <tr>\n",
       "      <th>2</th>\n",
       "      <td>dr. aster has held teaching and research posi...</td>\n",
       "    </tr>\n",
       "    <tr>\n",
       "      <th>3</th>\n",
       "      <td>he runs a boutique design studio attending cl...</td>\n",
       "    </tr>\n",
       "    <tr>\n",
       "      <th>4</th>\n",
       "      <td>he focuses on cloud security, identity and ac...</td>\n",
       "    </tr>\n",
       "  </tbody>\n",
       "</table>\n",
       "</div>"
      ],
      "text/plain": [
       "                                          description\n",
       "Id                                                   \n",
       "0    she is also a ronald d. asmus policy entrepre...\n",
       "1    he is a member of the aicpa and wicpa. brent ...\n",
       "2    dr. aster has held teaching and research posi...\n",
       "3    he runs a boutique design studio attending cl...\n",
       "4    he focuses on cloud security, identity and ac..."
      ]
     },
     "execution_count": 8,
     "metadata": {},
     "output_type": "execute_result"
    }
   ],
   "source": [
    "df3 = df2.drop(['gender'], axis='columns')\n",
    "df3.head()\n",
    "\n",
    "x_catboost_train, x_catboost_test, y_catboost_train, y_catboost_test, g_cb_train, g_cb_test = train_test_split(\n",
    "    df3, df.label, df.gender, test_size=0.2, random_state=211101)"
   ]
  },
  {
   "cell_type": "code",
   "execution_count": null,
   "metadata": {
    "run_control": {
     "marked": false
    }
   },
   "outputs": [],
   "source": [
    "from catboost import Pool, CatBoostClassifier\n",
    "\n",
    "catboost_filename = 'catboost_model_without_gender.dump'\n",
    "\n",
    "if os.path.isfile(catboost_filename):\n",
    "    model = CatBoostClassifier().load_model(catboost_filename)\n",
    "else:\n",
    "    train_pool = Pool(x_catboost_train,\n",
    "                      y_catboost_train,\n",
    "                      text_features=['description'])\n",
    "    test_pool = Pool(x_catboost_test,\n",
    "                     y_catboost_test,\n",
    "                     text_features=['description'])\n",
    "\n",
    "    catboost_params = {\n",
    "        'iterations': 3000,\n",
    "        'learning_rate': 0.1,\n",
    "        'task_type': 'GPU',\n",
    "        'devices': '0-1',\n",
    "        'early_stopping_rounds': 5000,\n",
    "        'use_best_model': True,\n",
    "        'verbose': False\n",
    "    }\n",
    "    model = CatBoostClassifier(**catboost_params)\n",
    "    model.fit(train_pool, eval_set=test_pool, plot=True)\n",
    "\n",
    "    model.save_model(catboost_filename)\n",
    "\n",
    "y_catboost_pred_train = model.predict(x_catboost_train)\n",
    "y_catboost_pred_test = model.predict(x_catboost_test)"
   ]
  },
  {
   "cell_type": "code",
   "execution_count": 11,
   "metadata": {},
   "outputs": [
    {
     "name": "stdout",
     "output_type": "stream",
     "text": [
      "train\n",
      "                   precision    recall  f1-score\n",
      "         accuracy                           0.88\n",
      "        macro avg       0.86      0.85      0.85\n",
      "     weighted avg       0.88      0.88      0.88\n",
      "   macro fairness                          4.853\n",
      "test\n",
      "                   precision    recall  f1-score\n",
      "         accuracy                           0.80\n",
      "        macro avg       0.75      0.71      0.73\n",
      "     weighted avg       0.80      0.80      0.80\n",
      "   macro fairness                          5.307\n"
     ]
    }
   ],
   "source": [
    "print_score_report(model,\n",
    "                   y_catboost_train, y_catboost_pred_train.flatten(),\n",
    "                   y_catboost_test, x_catboost_pred_test.flatten(),\n",
    "                   g_cb_train, g_cb_test)"
   ]
  },
  {
   "cell_type": "markdown",
   "metadata": {},
   "source": [
    "Ne pas utiliser le genre n'améliore que très peu la fairness."
   ]
  },
  {
   "cell_type": "markdown",
   "metadata": {},
   "source": [
    "## Word embedding"
   ]
  },
  {
   "cell_type": "markdown",
   "metadata": {},
   "source": [
    "## RoBERTa"
   ]
  },
  {
   "cell_type": "markdown",
   "metadata": {},
   "source": [
    "See attached notebook"
   ]
  }
 ],
 "metadata": {
  "kernelspec": {
   "display_name": "Python 3",
   "language": "python",
   "name": "python3"
  },
  "language_info": {
   "codemirror_mode": {
    "name": "ipython",
    "version": 3
   },
   "file_extension": ".py",
   "mimetype": "text/x-python",
   "name": "python",
   "nbconvert_exporter": "python",
   "pygments_lexer": "ipython3",
   "version": "3.8.5"
  },
  "toc": {
   "base_numbering": 1,
   "nav_menu": {},
   "number_sections": true,
   "sideBar": true,
   "skip_h1_title": false,
   "title_cell": "Table of Contents",
   "title_sidebar": "Contents",
   "toc_cell": false,
   "toc_position": {
    "height": "calc(100% - 180px)",
    "left": "10px",
    "top": "150px",
    "width": "231.181px"
   },
   "toc_section_display": true,
   "toc_window_display": true
  },
  "varInspector": {
   "cols": {
    "lenName": 16,
    "lenType": 16,
    "lenVar": 40
   },
   "kernels_config": {
    "python": {
     "delete_cmd_postfix": "",
     "delete_cmd_prefix": "del ",
     "library": "var_list.py",
     "varRefreshCmd": "print(var_dic_list())"
    },
    "r": {
     "delete_cmd_postfix": ") ",
     "delete_cmd_prefix": "rm(",
     "library": "var_list.r",
     "varRefreshCmd": "cat(var_dic_list()) "
    }
   },
   "types_to_exclude": [
    "module",
    "function",
    "builtin_function_or_method",
    "instance",
    "_Feature"
   ],
   "window_display": false
  },
  "widgets": {
   "application/vnd.jupyter.widget-state+json": {
    "state": {
     "06e8b77a48cb439094a29f091826db36": {
      "model_module": "jupyter-matplotlib",
      "model_module_version": "^0.7.4",
      "model_name": "MPLCanvasModel",
      "state": {
       "_cursor": "default",
       "_figure_label": "Figure 3",
       "_height": 480,
       "_width": 640,
       "layout": "IPY_MODEL_d408241c201247b682c2dcba5652cca7",
       "toolbar": "IPY_MODEL_be7d443e828841b9a67db6ae52a0c192",
       "toolbar_position": "left"
      }
     },
     "1b90585006ad4f2ab600d592c4a90a2d": {
      "model_module": "@jupyter-widgets/base",
      "model_module_version": "1.2.0",
      "model_name": "LayoutModel",
      "state": {}
     },
     "3674fdb4ef114b3baa5fe87eac06b388": {
      "model_module": "@jupyter-widgets/base",
      "model_module_version": "1.2.0",
      "model_name": "LayoutModel",
      "state": {}
     },
     "4050a94f7c5f42e085981a40dce756a7": {
      "model_module": "jupyter-matplotlib",
      "model_module_version": "^0.7.4",
      "model_name": "MPLCanvasModel",
      "state": {
       "_cursor": "default",
       "_figure_label": "Figure 2",
       "_height": 480,
       "_width": 640,
       "layout": "IPY_MODEL_68d038e19b33434dbcb7119548bbfd7e",
       "toolbar": "IPY_MODEL_a869ce3eea1d4107b4002bbf5586a5da",
       "toolbar_position": "left"
      }
     },
     "52a12479b646451287a6f747163cb270": {
      "model_module": "jupyter-matplotlib",
      "model_module_version": "^0.7.4",
      "model_name": "ToolbarModel",
      "state": {
       "layout": "IPY_MODEL_a63690cf71424bb1a367573e644fdb39",
       "toolitems": [
        [
         "Home",
         "Reset original view",
         "home",
         "home"
        ],
        [
         "Back",
         "Back to previous view",
         "arrow-left",
         "back"
        ],
        [
         "Forward",
         "Forward to next view",
         "arrow-right",
         "forward"
        ],
        [
         "Pan",
         "Left button pans, Right button zooms\nx/y fixes axis, CTRL fixes aspect",
         "arrows",
         "pan"
        ],
        [
         "Zoom",
         "Zoom to rectangle\nx/y fixes axis, CTRL fixes aspect",
         "square-o",
         "zoom"
        ],
        [
         "Download",
         "Download plot",
         "floppy-o",
         "save_figure"
        ]
       ]
      }
     },
     "68d038e19b33434dbcb7119548bbfd7e": {
      "model_module": "@jupyter-widgets/base",
      "model_module_version": "1.2.0",
      "model_name": "LayoutModel",
      "state": {}
     },
     "a63690cf71424bb1a367573e644fdb39": {
      "model_module": "@jupyter-widgets/base",
      "model_module_version": "1.2.0",
      "model_name": "LayoutModel",
      "state": {}
     },
     "a869ce3eea1d4107b4002bbf5586a5da": {
      "model_module": "jupyter-matplotlib",
      "model_module_version": "^0.7.4",
      "model_name": "ToolbarModel",
      "state": {
       "layout": "IPY_MODEL_1b90585006ad4f2ab600d592c4a90a2d",
       "toolitems": [
        [
         "Home",
         "Reset original view",
         "home",
         "home"
        ],
        [
         "Back",
         "Back to previous view",
         "arrow-left",
         "back"
        ],
        [
         "Forward",
         "Forward to next view",
         "arrow-right",
         "forward"
        ],
        [
         "Pan",
         "Left button pans, Right button zooms\nx/y fixes axis, CTRL fixes aspect",
         "arrows",
         "pan"
        ],
        [
         "Zoom",
         "Zoom to rectangle\nx/y fixes axis, CTRL fixes aspect",
         "square-o",
         "zoom"
        ],
        [
         "Download",
         "Download plot",
         "floppy-o",
         "save_figure"
        ]
       ]
      }
     },
     "be7d443e828841b9a67db6ae52a0c192": {
      "model_module": "jupyter-matplotlib",
      "model_module_version": "^0.7.4",
      "model_name": "ToolbarModel",
      "state": {
       "layout": "IPY_MODEL_3674fdb4ef114b3baa5fe87eac06b388",
       "toolitems": [
        [
         "Home",
         "Reset original view",
         "home",
         "home"
        ],
        [
         "Back",
         "Back to previous view",
         "arrow-left",
         "back"
        ],
        [
         "Forward",
         "Forward to next view",
         "arrow-right",
         "forward"
        ],
        [
         "Pan",
         "Left button pans, Right button zooms\nx/y fixes axis, CTRL fixes aspect",
         "arrows",
         "pan"
        ],
        [
         "Zoom",
         "Zoom to rectangle\nx/y fixes axis, CTRL fixes aspect",
         "square-o",
         "zoom"
        ],
        [
         "Download",
         "Download plot",
         "floppy-o",
         "save_figure"
        ]
       ]
      }
     },
     "bf7866b57eb648fca37cc0b8ad6d49d4": {
      "model_module": "jupyter-matplotlib",
      "model_module_version": "^0.7.4",
      "model_name": "MPLCanvasModel",
      "state": {
       "_cursor": "default",
       "_figure_label": "Figure 1",
       "_height": 800,
       "_width": 1500,
       "layout": "IPY_MODEL_e61a4f0b97e0414ba85020d28a5392eb",
       "toolbar": "IPY_MODEL_52a12479b646451287a6f747163cb270",
       "toolbar_position": "left"
      }
     },
     "d408241c201247b682c2dcba5652cca7": {
      "model_module": "@jupyter-widgets/base",
      "model_module_version": "1.2.0",
      "model_name": "LayoutModel",
      "state": {}
     },
     "e61a4f0b97e0414ba85020d28a5392eb": {
      "model_module": "@jupyter-widgets/base",
      "model_module_version": "1.2.0",
      "model_name": "LayoutModel",
      "state": {}
     }
    },
    "version_major": 2,
    "version_minor": 0
   }
  }
 },
 "nbformat": 4,
 "nbformat_minor": 4
}
