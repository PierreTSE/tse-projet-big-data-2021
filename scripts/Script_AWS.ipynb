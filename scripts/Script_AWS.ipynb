{
 "cells": [
  {
   "cell_type": "code",
   "execution_count": 1,
   "metadata": {},
   "outputs": [],
   "source": [
    "import numpy as np\n",
    "import pandas as pd\n",
    "import matplotlib.pyplot as plt\n",
    "import nltk\n",
    "\n",
    "from math import sqrt\n",
    "from time import time\n",
    "import os\n",
    "import joblib\n",
    "import itertools\n",
    "\n",
    "import warnings\n",
    "warnings.simplefilter(\"ignore\")"
   ]
  },
  {
   "cell_type": "markdown",
   "metadata": {},
   "source": [
    "# Data loading"
   ]
  },
  {
   "cell_type": "code",
   "execution_count": 2,
   "metadata": {},
   "outputs": [],
   "source": [
    "df = pd.read_json(\"data.json\").set_index('Id')\n",
    "labels = pd.read_csv(\"label.csv\", index_col='Id')\n",
    "category_names = pd.read_csv(\"categories_string.csv\")['0'].to_dict()\n",
    "\n",
    "df['label'] = labels['Category']\n",
    "df['job'] = labels['Category'].map(category_names)"
   ]
  },
  {
   "cell_type": "markdown",
   "metadata": {},
   "source": [
    "# Utilities"
   ]
  },
  {
   "cell_type": "code",
   "execution_count": 3,
   "metadata": {},
   "outputs": [],
   "source": [
    "def disparate_impact_df(df):\n",
    "    counts = df.groupby(['label', 'gender']).size().unstack('gender')\n",
    "    di = counts[['M', 'F']].max(axis='columns') / counts[['M', 'F']].min(axis='columns')\n",
    "    di.index = di.index.map(category_names)\n",
    "    return di.sort_values(ascending=False)\n",
    "\n",
    "def disparate_impact(labels, genders):\n",
    "    return disparate_impact_df(pd.DataFrame({'label': labels, 'gender': genders}))\n",
    "\n",
    "def macro_disparate_impact(labels, genders):\n",
    "    print(\"   macro fairness\" + 25*\" \", round(disparate_impact(labels, genders).mean(), 3))"
   ]
  },
  {
   "cell_type": "code",
   "execution_count": 4,
   "metadata": {},
   "outputs": [],
   "source": [
    "import re\n",
    "from time import time\n",
    "from sklearn import metrics\n",
    "from sklearn.model_selection import train_test_split\n",
    "from sklearn.metrics import accuracy_score, classification_report, f1_score\n",
    "\n",
    "def show_confusion_matrix(y_true, y_pred):\n",
    "    _=metrics.ConfusionMatrixDisplay(metrics.confusion_matrix(y_true, y_pred)).plot(include_values=False)\n",
    "    \n",
    "def score_report(y_true, y_pred):\n",
    "    r = classification_report(y_true, y_pred, target_names=category_names.values()).split(\"\\n\")\n",
    "    for line in [re.sub(\"\\\\s+[^ ]+$\",\"\",e) for e in r[:1] + r[31:-1]]: print(line)\n",
    "        \n",
    "def print_score_report(clf, Y_train, y_pred_train, Y_test, y_pred_test, gender_train, gender_test):\n",
    "    print(\"train\")\n",
    "    score_report(Y_train, y_pred_train)\n",
    "    macro_disparate_impact(y_pred_train, gender_train)\n",
    "    print(\"test\")\n",
    "    score_report(Y_test, y_pred_test)\n",
    "    macro_disparate_impact(y_pred_test, gender_test)\n",
    "    \n",
    "def fit_model_test(model, X_train, X_test, Y_train, Y_test, test_on_train_set=True, test_on_test_set=True):\n",
    "    t0 = time()\n",
    "    model.fit(X_train, Y_train)\n",
    "    print(\"train time: %0.3fs\" % (time() - t0))\n",
    "    \n",
    "    if test_on_train_set:\n",
    "        t0 = time()\n",
    "        Y_pred_train = model.predict(X_train)\n",
    "        print(\"test time (train set): %0.3fs\" % (time() - t0))\n",
    "    else: Y_pred_train = None\n",
    "    \n",
    "    if test_on_test_set:\n",
    "        t0 = time()\n",
    "        Y_pred_test = model.predict(X_test)\n",
    "        print(\"test time (test set) : %0.3fs\" % (time() - t0))\n",
    "    else: Y_pred_test = None\n",
    "    \n",
    "    return [Y_pred_train, Y_pred_test]"
   ]
  },
  {
   "cell_type": "code",
   "execution_count": 5,
   "metadata": {},
   "outputs": [],
   "source": [
    "import contextlib\n",
    "import joblib\n",
    "import os\n",
    "\n",
    "\n",
    "@contextlib.contextmanager\n",
    "def persist(name:str, dump:bool=True):\n",
    "    if type(name) != str:\n",
    "        raise TypeError(\"name must be a string\")\n",
    "    try:\n",
    "        try: \n",
    "            var = globals()[name]\n",
    "            yield var\n",
    "        except KeyError:\n",
    "            if os.path.isfile(name):\n",
    "                print(\"loading \" + name)\n",
    "                yield joblib.load(name)\n",
    "            else: yield\n",
    "    finally:\n",
    "        if dump:\n",
    "            try:\n",
    "                var = globals()[name]\n",
    "                if var != None and not os.path.isfile(name):\n",
    "                    joblib.dump(var, name)\n",
    "                    print(\"dumped \" + name)\n",
    "            except KeyError: raise RuntimeError(name + \" is not defined\")"
   ]
  },
  {
   "cell_type": "markdown",
   "metadata": {},
   "source": [
    "# Preprocessing"
   ]
  },
  {
   "cell_type": "code",
   "execution_count": 6,
   "metadata": {},
   "outputs": [],
   "source": [
    "def preprocess(text):\n",
    "    # remove : not character or space, digit, words with size < 3\n",
    "    # to lowercase\n",
    "    return re.sub(r'[^\\w\\s]|\\d|\\b\\w{1,2}\\b', ' ', str(text)).strip().lower()\n",
    "\n",
    "\n",
    "lemmatizer = nltk.stem.WordNetLemmatizer()\n",
    "# tokenizer with lemmatization\n",
    "def tokenize(text):\n",
    "    return [lemmatizer.lemmatize(word) for word in nltk.word_tokenize(text)]\n",
    "\n",
    "\n",
    "def full_preprocessing(text):\n",
    "    l = tokenize(preprocess(text))\n",
    "    return \" \".join([w for w in l if w not in stop_words])\n",
    "\n",
    "try: nltk.data.find('corpora/stopwords')\n",
    "except LookupError: nltk.download('stopwords')\n",
    "try: nltk.data.find('tokenizers/punkt')\n",
    "except LookupError: nltk.download('punkt')\n",
    "try: nltk.data.find('corpora/wordnet')\n",
    "except LookupError: nltk.download('wordnet')\n",
    "try: nltk.data.find('corpora/names')\n",
    "except LookupError: nltk.download('names')\n",
    "\n",
    "english_stopwords = nltk.corpus.stopwords.words(\"english\")\n",
    "male_names = [t.lower() for t in nltk.corpus.names.words('male.txt')]\n",
    "female_names = [t.lower() for t in nltk.corpus.names.words('female.txt')]\n",
    "\n",
    "# stopwords = common english + male and female names\n",
    "stop_words = english_stopwords + list(\n",
    "    itertools.chain.from_iterable(\n",
    "        [tokenize(preprocess(t)) for t in male_names])) + list(\n",
    "            itertools.chain.from_iterable(\n",
    "                [tokenize(preprocess(t)) for t in female_names]))"
   ]
  },
  {
   "cell_type": "code",
   "execution_count": 7,
   "metadata": {},
   "outputs": [
    {
     "name": "stdout",
     "output_type": "stream",
     "text": [
      "preprocessing fit time : 106.993s\n",
      "dumped tfidf_vectorizer\n",
      "preprocessing time : 109.268s\n",
      "dumped custom_X\n"
     ]
    }
   ],
   "source": [
    "from sklearn.feature_extraction.text import TfidfVectorizer\n",
    "\n",
    "with persist('tfidf_vectorizer') as tfidf_vectorizer:\n",
    "    if tfidf_vectorizer == None:\n",
    "        t0 = time()\n",
    "        tfidf_vectorizer = TfidfVectorizer(strip_accents='unicode',\n",
    "                                            preprocessor=preprocess,\n",
    "                                            tokenizer=tokenize,\n",
    "                                            stop_words=stop_words,\n",
    "                                            sublinear_tf=True).fit(df.description)\n",
    "        print(\"preprocessing fit time : %0.3fs\" % (time() - t0))\n",
    "\n",
    "with persist('custom_X') as custom_X:\n",
    "    if custom_X == None:\n",
    "        t0 = time()\n",
    "        custom_X = tfidf_vectorizer.transform(df.description)\n",
    "        print(\"preprocessing time : %0.3fs\" % (time() - t0))\n",
    "\n",
    "X = custom_X"
   ]
  },
  {
   "cell_type": "markdown",
   "metadata": {},
   "source": [
    "# Training"
   ]
  },
  {
   "cell_type": "code",
   "execution_count": 8,
   "metadata": {},
   "outputs": [],
   "source": [
    "from sklearn.feature_selection import SelectKBest\n",
    "from sklearn.feature_selection import SelectPercentile\n",
    "from sklearn.feature_selection import chi2\n",
    "\n",
    "X_selected = SelectPercentile(chi2, percentile=10).fit_transform(X, df.label)\n",
    "X_selected.shape\n",
    "X_s_train, X_s_test, Y_s_train, Y_s_test, G_s_train, G_s_test = train_test_split(X_selected,\n",
    "                                                                                 df.label,\n",
    "                                                                                 df.gender,\n",
    "                                                                                 test_size=0.2,\n",
    "                                                                                 random_state=211101)"
   ]
  },
  {
   "cell_type": "code",
   "execution_count": 9,
   "metadata": {},
   "outputs": [
    {
     "name": "stdout",
     "output_type": "stream",
     "text": [
      "train time: 31.664s\n",
      "test time (train set): 0.141s\n",
      "test time (test set) : 0.042s\n",
      "dumped linear_svm_model\n"
     ]
    }
   ],
   "source": [
    "from sklearn.svm import LinearSVC\n",
    "\n",
    "with persist('linear_svm_model') as linear_svm_model:\n",
    "    if linear_svm_model==None:\n",
    "            linear_svm_model = LinearSVC(max_iter=1e9, # default : 1000\n",
    "                                         tol=1e-5, # default : 1e-3\n",
    "                                         C=0.1, # default : 1\n",
    "                                         dual=False,\n",
    "                                         random_state=211101)\n",
    "            fit_model_test(linear_svm_model, X_s_train, X_s_test, Y_s_train, Y_s_test)"
   ]
  },
  {
   "cell_type": "markdown",
   "metadata": {},
   "source": [
    "# Evaluating"
   ]
  },
  {
   "cell_type": "code",
   "execution_count": 10,
   "metadata": {},
   "outputs": [
    {
     "name": "stdout",
     "output_type": "stream",
     "text": [
      "train\n",
      "                   precision    recall  f1-score\n",
      "         accuracy                           0.83\n",
      "        macro avg       0.83      0.76      0.79\n",
      "     weighted avg       0.83      0.83      0.82\n",
      "   macro fairness                          3.683\n",
      "test\n",
      "                   precision    recall  f1-score\n",
      "         accuracy                           0.80\n",
      "        macro avg       0.80      0.70      0.74\n",
      "     weighted avg       0.80      0.80      0.79\n",
      "   macro fairness                          3.258\n"
     ]
    }
   ],
   "source": [
    "Y_s_pred_train = linear_svm_model.predict(X_s_train)\n",
    "Y_s_pred_test = linear_svm_model.predict(X_s_test)\n",
    "print_score_report(linear_svm_model, Y_s_train, Y_s_pred_train, Y_s_test, Y_s_pred_test, G_s_train, G_s_test)"
   ]
  },
  {
   "cell_type": "code",
   "execution_count": 11,
   "metadata": {},
   "outputs": [
    {
     "data": {
      "image/png": "[encoded data removed]",
      "text/plain": [
       "<Figure size 432x288 with 2 Axes>"
      ]
     },
     "metadata": {
      "needs_background": "light"
     },
     "output_type": "display_data"
    },
    {
     "data": {
      "image/png": "[encoded data removed]",
      "text/plain": [
       "<Figure size 432x288 with 2 Axes>"
      ]
     },
     "metadata": {
      "needs_background": "light"
     },
     "output_type": "display_data"
    }
   ],
   "source": [
    "show_confusion_matrix(Y_s_train, Y_s_pred_train)\n",
    "show_confusion_matrix(Y_s_test, Y_s_pred_test)"
   ]
  },
  {
   "cell_type": "markdown",
   "metadata": {},
   "source": [
    "# Exporting "
   ]
  },
  {
   "cell_type": "code",
   "execution_count": 26,
   "metadata": {},
   "outputs": [],
   "source": [
    "predict = pd.DataFrame({\n",
    "    'predicted': Y_s_pred_test,\n",
    "    'true': Y_s_test\n",
    "})\n",
    "predict.predicted = predict.predicted.map(category_names)\n",
    "predict.true = predict.true.map(category_names)\n",
    "predict['description'] = df.iloc[predict.index].description\n",
    "predict.to_csv('predict.csv', encoding=\"utf-8-sig'\")"
   ]
  }
 ],
 "metadata": {
  "kernelspec": {
   "display_name": "Python 3",
   "language": "python",
   "name": "python3"
  },
  "language_info": {
   "codemirror_mode": {
    "name": "ipython",
    "version": 3
   },
   "file_extension": ".py",
   "mimetype": "text/x-python",
   "name": "python",
   "nbconvert_exporter": "python",
   "pygments_lexer": "ipython3",
   "version": "3.8.5"
  },
  "toc": {
   "base_numbering": 1,
   "nav_menu": {},
   "number_sections": true,
   "sideBar": true,
   "skip_h1_title": false,
   "title_cell": "Table of Contents",
   "title_sidebar": "Contents",
   "toc_cell": false,
   "toc_position": {},
   "toc_section_display": true,
   "toc_window_display": true
  },
  "varInspector": {
   "cols": {
    "lenName": 16,
    "lenType": 16,
    "lenVar": 40
   },
   "kernels_config": {
    "python": {
     "delete_cmd_postfix": "",
     "delete_cmd_prefix": "del ",
     "library": "var_list.py",
     "varRefreshCmd": "print(var_dic_list())"
    },
    "r": {
     "delete_cmd_postfix": ") ",
     "delete_cmd_prefix": "rm(",
     "library": "var_list.r",
     "varRefreshCmd": "cat(var_dic_list()) "
    }
   },
   "types_to_exclude": [
    "module",
    "function",
    "builtin_function_or_method",
    "instance",
    "_Feature"
   ],
   "window_display": false
  }
 },
 "nbformat": 4,
 "nbformat_minor": 4
}
